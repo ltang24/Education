{
 "cells": [
  {
   "cell_type": "code",
   "execution_count": 46,
   "id": "cc8e6b8f-844d-4d86-9796-31a51c3de56e",
   "metadata": {},
   "outputs": [
    {
     "name": "stdout",
     "output_type": "stream",
     "text": [
      "✅ 已合并: /Users/tangluoxi/Desktop/Education/单选题.txt\n",
      "✅ 已合并: /Users/tangluoxi/Desktop/Education/三空题.txt\n",
      "✅ 已合并: /Users/tangluoxi/Desktop/Education/双空题.txt\n",
      "✅ 已合并: /Users/tangluoxi/Desktop/Education/六选二.txt\n",
      "----------------------------------\n",
      "合并完成 → 输出文件: /Users/tangluoxi/Desktop/Education/合并结果.txt\n"
     ]
    }
   ],
   "source": [
    "# 定义要合并的文件列表（请确保路径正确）\n",
    "file_paths = [\n",
    "    '/Users/tangluoxi/Desktop/Education/单选题',\n",
    "    '/Users/tangluoxi/Desktop/Education/三空题',\n",
    "    '/Users/tangluoxi/Desktop/Education/双空题',\n",
    "    '/Users/tangluoxi/Desktop/Education/六选二'\n",
    "]\n",
    "\n",
    "# 定义输出文件路径\n",
    "output_path = '/Users/tangluoxi/Desktop/Education/合并结果.txt'\n",
    "\n",
    "# 执行合并操作\n",
    "with open(output_path, 'w', encoding='utf-8') as output_file:\n",
    "    for path in file_paths:\n",
    "        try:\n",
    "            with open(f\"{path}.txt\", 'r', encoding='utf-8') as input_file:  # 自动添加.txt扩展名\n",
    "                output_file.write(input_file.read())\n",
    "                output_file.write(\"\\n\\n\")  # 添加两个换行作为文件分隔符\n",
    "            print(f\"✅ 已合并: {path}.txt\")\n",
    "        except FileNotFoundError:\n",
    "            print(f\"⚠️ 文件不存在: {path}.txt\")\n",
    "        except Exception as e:\n",
    "            print(f\"❌ 读取错误: {path} - {str(e)}\")\n",
    "\n",
    "print(\"----------------------------------\")\n",
    "print(f\"合并完成 → 输出文件: {output_path}\")"
   ]
  },
  {
   "cell_type": "code",
   "execution_count": 47,
   "id": "6fe54ebf-221c-4810-8faf-678aafa90b28",
   "metadata": {},
   "outputs": [
    {
     "name": "stdout",
     "output_type": "stream",
     "text": [
      "成功转换 410 道题目 → /Users/tangluoxi/Desktop/Education/questions.json\n"
     ]
    }
   ],
   "source": [
    "import json\n",
    "import re\n",
    "from collections import OrderedDict\n",
    "\n",
    "def parse_questions(file_path):\n",
    "    questions = []\n",
    "    current_question = None\n",
    "    blank_mode = False\n",
    "    current_blank = None\n",
    "\n",
    "    with open(file_path, 'r', encoding='utf-8') as f:\n",
    "        lines = [line.strip() for line in f.readlines() if line.strip()]  # 过滤空行\n",
    "\n",
    "    for line in lines:\n",
    "        # 检测问题开始\n",
    "        if re.match(r'^\\d+\\.', line):\n",
    "            if current_question is not None:\n",
    "                questions.append(current_question)\n",
    "            \n",
    "            current_question = OrderedDict([\n",
    "                ('question_number', int(re.search(r'\\d+', line).group())),\n",
    "                ('content', re.sub(r'^\\d+\\.\\s*', '', line)),\n",
    "                ('options', OrderedDict()),\n",
    "                ('answer', None),\n",
    "                ('question_type', '')\n",
    "            ])\n",
    "            blank_mode = False\n",
    "            current_blank = None\n",
    "            continue\n",
    "\n",
    "        # 确保current_question已初始化\n",
    "        if current_question is None:\n",
    "            continue  # 跳过所有在第一个问题编号之前的内容\n",
    "\n",
    "        # 检测答案行\n",
    "        if line.lower().startswith('answer'):\n",
    "            answer_part = re.sub(r'answer\\s*[:：]+\\s*', '', line, flags=re.IGNORECASE)\n",
    "            current_question['answer'] = [x.strip() for x in answer_part.split(',')] if ',' in answer_part else answer_part.strip()\n",
    "            continue\n",
    "\n",
    "        # 检测空白选项\n",
    "        if line.startswith('Blank('):\n",
    "            blank_mode = True\n",
    "            current_blank = line.split()[0]\n",
    "            current_question['options'][current_blank] = []\n",
    "            continue\n",
    "\n",
    "        # 处理选项内容\n",
    "        if blank_mode:\n",
    "            if current_blank and line:\n",
    "                current_question['options'][current_blank].append(line)\n",
    "        elif re.match(r'^[A-F]\\.', line):\n",
    "            option_key = line[0]\n",
    "            option_value = line[3:].strip()\n",
    "            if option_key.isalpha() and len(option_key) == 1:\n",
    "                current_question['options'][option_key] = option_value\n",
    "\n",
    "    # 添加最后一个问题\n",
    "    if current_question is not None:\n",
    "        questions.append(current_question)\n",
    "\n",
    "    # 确定题目类型\n",
    "    for q in questions:\n",
    "        if 'Blank(i)' in q['options']:\n",
    "            blank_count = len(q['options'])\n",
    "            q['question_type'] = f'array of {blank_count} answers'\n",
    "        elif len(q['options']) == 6:\n",
    "            q['question_type'] = 'array of two options from 6 answers'\n",
    "        else:\n",
    "            q['question_type'] = 'single answer'\n",
    "\n",
    "        # 转换单一答案为字符串\n",
    "        if isinstance(q['answer'], list) and len(q['answer']) == 1:\n",
    "            q['answer'] = q['answer'][0]\n",
    "\n",
    "    return questions\n",
    "\n",
    "# 使用示例\n",
    "input_file = '/Users/tangluoxi/Desktop/Education/合并结果.txt'\n",
    "output_file = '/Users/tangluoxi/Desktop/Education/questions.json'\n",
    "\n",
    "questions = parse_questions(input_file)\n",
    "\n",
    "with open(output_file, 'w', encoding='utf-8') as f:\n",
    "    json.dump(questions, f, ensure_ascii=False, indent=2)\n",
    "\n",
    "print(f'成功转换 {len(questions)} 道题目 → {output_file}')"
   ]
  },
  {
   "cell_type": "code",
   "execution_count": 44,
   "id": "8f5bb4bb-5653-482f-bcbf-3ba5448773f7",
   "metadata": {},
   "outputs": [
    {
     "name": "stdout",
     "output_type": "stream",
     "text": [
      "The word 'answer' appears 110 times in the file.\n"
     ]
    }
   ],
   "source": [
    "# 指定文件路径\n",
    "file_path = \"/Users/tangluoxi/Desktop/Education/单选题.txt\"\n",
    "\n",
    "# 读取文件内容\n",
    "with open(file_path, \"r\", encoding=\"utf-8\") as file:\n",
    "    text = file.read().lower()  # 转换为小写，便于不区分大小写的搜索\n",
    "\n",
    "# 统计 \"answer\" 出现的次数\n",
    "count = text.count(\"answer\")\n",
    "print(\"The word 'answer' appears\", count, \"times in the file.\")\n"
   ]
  },
  {
   "cell_type": "code",
   "execution_count": 17,
   "id": "de0ed8bb-dd72-4b56-a69a-004520f8605e",
   "metadata": {},
   "outputs": [
    {
     "name": "stdout",
     "output_type": "stream",
     "text": [
      "Total number of questions: 110\n"
     ]
    }
   ],
   "source": [
    "import re\n",
    "\n",
    "file_path = \"/Users/tangluoxi/Desktop/Education/单选题.txt\"  # 请替换为你的文件路径\n",
    "\n",
    "with open(file_path, \"r\", encoding=\"utf-8\") as f:\n",
    "    content = f.read()\n",
    "\n",
    "# 使用正则表达式匹配以数字开头后跟句点的题目编号\n",
    "questions = re.findall(r\"^\\d+\\.\", content, flags=re.MULTILINE)\n",
    "print(\"Total number of questions:\", len(questions))\n"
   ]
  },
  {
   "cell_type": "code",
   "execution_count": 40,
   "id": "788944ae-c511-451b-a766-a89b87dc7e5d",
   "metadata": {},
   "outputs": [
    {
     "name": "stdout",
     "output_type": "stream",
     "text": [
      "Found question numbers: [1, 2, 3, 4, 5, 6, 7, 8, 9, 10, 11, 12, 13, 14, 15, 16, 17, 18, 19, 20, 21, 22, 23, 24, 25, 26, 27, 28, 29, 30, 31, 32, 33, 34, 35, 36, 37, 38, 39, 40, 41, 42, 43, 44, 45, 46, 47, 48, 49, 50, 51, 52, 53, 54, 55, 56, 57, 58, 59, 60, 61, 62, 63, 64, 65, 66, 67, 68, 69, 70, 71, 72, 73, 74, 75, 76, 77, 78, 79, 80, 81, 82, 83, 84, 85, 86, 87, 88, 89, 90, 91, 92, 93, 94, 95, 96, 97, 98, 99, 100, 101, 102, 103, 104, 105, 106, 107, 108, 109, 110]\n",
      "Missing question numbers: []\n"
     ]
    }
   ],
   "source": [
    "import re\n",
    "\n",
    "file_path = \"/Users/tangluoxi/Desktop/Education/单选题.txt\"  # 替换为你的文件路径\n",
    "\n",
    "with open(file_path, \"r\", encoding=\"utf-8\") as f:\n",
    "    content = f.read()\n",
    "\n",
    "# 找出所有以数字后跟点开始的题号\n",
    "question_numbers = re.findall(r\"^(\\d+)\\.\", content, flags=re.MULTILINE)\n",
    "question_numbers = [int(num) for num in question_numbers]\n",
    "print(\"Found question numbers:\", question_numbers)\n",
    "\n",
    "# 预期题号从 1 到 100\n",
    "all_numbers = set(range(1, 101))\n",
    "missing = sorted(all_numbers - set(question_numbers))\n",
    "print(\"Missing question numbers:\", missing)\n"
   ]
  },
  {
   "cell_type": "code",
   "execution_count": 41,
   "id": "097ff4c4-fa82-4227-911b-01aa9c83f0d7",
   "metadata": {},
   "outputs": [
    {
     "name": "stdout",
     "output_type": "stream",
     "text": [
      "Missing answer for question(s): []\n"
     ]
    }
   ],
   "source": [
    "import re\n",
    "\n",
    "file_path = \"/Users/tangluoxi/Desktop/Education/单选题.txt\"\n",
    "\n",
    "with open(file_path, \"r\", encoding=\"utf-8\") as f:\n",
    "    content = f.read()\n",
    "\n",
    "# 按每个题号分割题目（假设题号格式为 \"数字.\" 开头）\n",
    "questions = re.split(r\"(?<=\\n)(?=\\d+\\.)\", content)\n",
    "\n",
    "missing_answers = []\n",
    "\n",
    "for q in questions:\n",
    "    # 尝试提取题号\n",
    "    match = re.match(r\"(\\d+)\\.\", q)\n",
    "    if match:\n",
    "        qnum = int(match.group(1))\n",
    "        # 检查题块中是否包含 \"Answer:\" 或 \"Answer：\" 字样\n",
    "        if (\"Answer:\" not in q) and (\"Answer：\" not in q):\n",
    "            missing_answers.append(qnum)\n",
    "\n",
    "print(\"Missing answer for question(s):\", missing_answers)\n"
   ]
  },
  {
   "cell_type": "code",
   "execution_count": 48,
   "id": "4d1b116f-aeff-40da-9d86-668d63016ab6",
   "metadata": {},
   "outputs": [
    {
     "name": "stdout",
     "output_type": "stream",
     "text": [
      "题目编号已更新为1到410\n"
     ]
    }
   ],
   "source": [
    "import json\n",
    "\n",
    "input_file = \"/Users/tangluoxi/Desktop/Education/questions.json\"  # 原文件路径\n",
    "output_file = \"/Users/tangluoxi/Desktop/Education/questions_updated.json\"  # 输出文件路径\n",
    "\n",
    "# 读取 JSON 数据\n",
    "with open(input_file, \"r\", encoding=\"utf-8\") as f:\n",
    "    questions = json.load(f)\n",
    "\n",
    "# 为每个题目重新分配连续的题号，从1开始\n",
    "for idx, question in enumerate(questions, start=1):\n",
    "    question[\"question_number\"] = idx\n",
    "\n",
    "# 将更新后的数据写入新的 JSON 文件（你也可以选择覆盖原文件）\n",
    "with open(output_file, \"w\", encoding=\"utf-8\") as f:\n",
    "    json.dump(questions, f, ensure_ascii=False, indent=2)\n",
    "\n",
    "print(f\"题目编号已更新为1到{len(questions)}\")\n"
   ]
  },
  {
   "cell_type": "code",
   "execution_count": 3,
   "id": "abe3e5be-6a94-4aa8-828e-7998a5330b88",
   "metadata": {},
   "outputs": [
    {
     "name": "stdout",
     "output_type": "stream",
     "text": [
      "PDF 合并完成，文件保存至: /Users/tangluoxi/Desktop/Education/GRE阅读机经_合并版.pdf\n",
      "PDF 转换为TXT完成，文件保存至: /Users/tangluoxi/Desktop/Education/GRE阅读机经_合并版.txt\n"
     ]
    }
   ],
   "source": [
    "import fitz  # PyMuPDF\n",
    "\n",
    "# 输入PDF文件路径\n",
    "pdf_paths = [\n",
    "    \"/Users/tangluoxi/Desktop/Education/GRE阅读机经320题+30题.pdf\",\n",
    "    \"/Users/tangluoxi/Desktop/Education/GRE阅读机经320题+30题答案解析.pdf\"\n",
    "]\n",
    "\n",
    "# 输出PDF路径\n",
    "merged_pdf_path = \"/Users/tangluoxi/Desktop/Education/GRE阅读机经_合并版.pdf\"\n",
    "text_output_path = \"/Users/tangluoxi/Desktop/Education/GRE阅读机经_合并版.txt\"\n",
    "\n",
    "# 1. 合并PDF文件\n",
    "def merge_pdfs(input_pdfs, output_pdf):\n",
    "    merged_document = fitz.open()\n",
    "    \n",
    "    for pdf in input_pdfs:\n",
    "        doc = fitz.open(pdf)\n",
    "        merged_document.insert_pdf(doc)\n",
    "    \n",
    "    merged_document.save(output_pdf)\n",
    "    merged_document.close()\n",
    "    print(f\"PDF 合并完成，文件保存至: {output_pdf}\")\n",
    "\n",
    "# 2. 将PDF转换为TXT文件\n",
    "def pdf_to_text(pdf_path, txt_output_path):\n",
    "    doc = fitz.open(pdf_path)\n",
    "    text = \"\"\n",
    "    \n",
    "    for page in doc:\n",
    "        text += page.get_text(\"text\") + \"\\n\\n\"\n",
    "    \n",
    "    with open(txt_output_path, \"w\", encoding=\"utf-8\") as txt_file:\n",
    "        txt_file.write(text)\n",
    "    \n",
    "    print(f\"PDF 转换为TXT完成，文件保存至: {txt_output_path}\")\n",
    "\n",
    "# 执行合并和转换\n",
    "merge_pdfs(pdf_paths, merged_pdf_path)\n",
    "pdf_to_text(merged_pdf_path, text_output_path)\n"
   ]
  },
  {
   "cell_type": "code",
   "execution_count": 2,
   "id": "3f1f963c-8b96-43fc-a77e-35ba96a00d5f",
   "metadata": {},
   "outputs": [
    {
     "name": "stdout",
     "output_type": "stream",
     "text": [
      "Collecting pymupdf\n",
      "  Downloading pymupdf-1.25.3-cp39-abi3-macosx_10_9_x86_64.whl.metadata (3.4 kB)\n",
      "Downloading pymupdf-1.25.3-cp39-abi3-macosx_10_9_x86_64.whl (19.3 MB)\n",
      "\u001b[2K   \u001b[90m━━━━━━━━━━━━━━━━━━━━━━━━━━━━━━━━━━━━━━━━\u001b[0m \u001b[32m19.3/19.3 MB\u001b[0m \u001b[31m13.4 MB/s\u001b[0m eta \u001b[36m0:00:00\u001b[0m00:01\u001b[0m00:01\u001b[0m\n",
      "\u001b[?25hInstalling collected packages: pymupdf\n",
      "Successfully installed pymupdf-1.25.3\n",
      "Note: you may need to restart the kernel to use updated packages.\n"
     ]
    }
   ],
   "source": [
    "pip install pymupdf\n"
   ]
  },
  {
   "cell_type": "code",
   "execution_count": 26,
   "id": "c3d007fb-85ab-4f06-9540-ba02fb796ee5",
   "metadata": {},
   "outputs": [
    {
     "name": "stdout",
     "output_type": "stream",
     "text": [
      "JSON 数据已保存到 /Users/tangluoxi/Desktop/Education/单选题2.json\n"
     ]
    }
   ],
   "source": [
    "import json\n",
    "import re\n",
    "\n",
    "# 设置输入和输出文件路径\n",
    "input_file_path = \"/Users/tangluoxi/Desktop/Education/1.txt\"\n",
    "output_file_path = \"/Users/tangluoxi/Desktop/Education/output.json\"\n",
    "\n",
    "# 从文件中读取全部内容\n",
    "with open(input_file_path, \"r\", encoding=\"utf-8\") as f:\n",
    "    raw_text = f.read()\n",
    "\n",
    "# 根据连续的空行分割文本，获取各个题目的块\n",
    "questions = [q.strip() for q in raw_text.strip().split(\"\\n\\n\") if q.strip()]\n",
    "\n",
    "result = []\n",
    "question_number = 111  # 题号从 111 开始\n",
    "\n",
    "for q in questions:\n",
    "    lines = q.splitlines()\n",
    "    \n",
    "    # 处理第一行，去掉题号和点，提取题干内容\n",
    "    first_line = lines[0]\n",
    "    match = re.match(r\"^\\d+\\.\\s*(.*)\", first_line)\n",
    "    content = match.group(1).strip() if match else first_line.strip()\n",
    "    \n",
    "    options = {}\n",
    "    answer = None\n",
    "    \n",
    "    # 遍历剩余行，解析选项和答案\n",
    "    for line in lines[1:]:\n",
    "        line = line.strip()\n",
    "        if line.startswith(\"Answer:\"):\n",
    "            answer = line.split(\"Answer:\")[1].strip()\n",
    "        else:\n",
    "            opt_match = re.match(r\"^([A-Z])\\.\\s*(.*)\", line)\n",
    "            if opt_match:\n",
    "                key = opt_match.group(1)\n",
    "                value = opt_match.group(2).strip()\n",
    "                options[key] = value\n",
    "\n",
    "    # 构造每道题的字典\n",
    "    question_dict = {\n",
    "        \"question_number\": question_number,\n",
    "        \"content\": content,\n",
    "        \"options\": options,\n",
    "        \"answer\": answer,\n",
    "        \"question_type\": \"single answer\"\n",
    "    }\n",
    "    result.append(question_dict)\n",
    "    question_number += 1\n",
    "\n",
    "# 将结果写入 JSON 文件\n",
    "with open(output_file_path, \"w\", encoding=\"utf-8\") as f:\n",
    "    json.dump(result, f, indent=4, ensure_ascii=False)\n",
    "\n",
    "print(f\"JSON 数据已保存到 {output_file_path}\")\n"
   ]
  },
  {
   "cell_type": "code",
   "execution_count": 33,
   "id": "c8a164b9-68c4-4974-9b1f-e5e0d87602d1",
   "metadata": {},
   "outputs": [
    {
     "name": "stdout",
     "output_type": "stream",
     "text": [
      "实际解析到的题目数量：410\n",
      "题号范围从 1 到 410，预期题目数量：410\n"
     ]
    }
   ],
   "source": [
    "import json\n",
    "\n",
    "# JSON 文件路径\n",
    "file_path = \"/Users/tangluoxi/Desktop/Education/GRE Verbal.json\"\n",
    "\n",
    "# 读取 JSON 文件\n",
    "with open(file_path, \"r\", encoding=\"utf-8\") as f:\n",
    "    data = json.load(f)\n",
    "\n",
    "# 直接统计 JSON 列表长度\n",
    "actual_count = len(data)\n",
    "print(f\"实际解析到的题目数量：{actual_count}\")\n",
    "\n",
    "# 基于题号范围计算（假设题号是连续的）\n",
    "question_numbers = [q['question_number'] for q in data if 'question_number' in q]\n",
    "if question_numbers:\n",
    "    min_num = min(question_numbers)\n",
    "    max_num = max(question_numbers)\n",
    "    expected_count = max_num - min_num + 1\n",
    "    print(f\"题号范围从 {min_num} 到 {max_num}，预期题目数量：{expected_count}\")\n",
    "else:\n",
    "    print(\"未找到题号数据\")\n",
    "\n"
   ]
  },
  {
   "cell_type": "code",
   "execution_count": 19,
   "id": "34f2a391-c56a-422f-af53-6cc49e1f1189",
   "metadata": {},
   "outputs": [
    {
     "name": "stdout",
     "output_type": "stream",
     "text": [
      "题号连续，无缺失。\n"
     ]
    }
   ],
   "source": [
    "import json\n",
    "\n",
    "# JSON 文件路径\n",
    "file_path = \"/Users/tangluoxi/Desktop/Education/单选题2.json\"\n",
    "\n",
    "# 读取 JSON 文件\n",
    "with open(file_path, \"r\", encoding=\"utf-8\") as f:\n",
    "    data = json.load(f)\n",
    "\n",
    "# 提取所有题目的 question_number，并排序\n",
    "question_numbers = sorted([q[\"question_number\"] for q in data if \"question_number\" in q])\n",
    "\n",
    "if not question_numbers:\n",
    "    print(\"没有找到题号数据。\")\n",
    "else:\n",
    "    # 以最小和最大题号为范围，找出缺失的题号\n",
    "    start = question_numbers[0]\n",
    "    end = question_numbers[-1]\n",
    "    missing_numbers = [num for num in range(start, end + 1) if num not in question_numbers]\n",
    "    if missing_numbers:\n",
    "        print(\"缺少的题号：\", missing_numbers)\n",
    "    else:\n",
    "        print(\"题号连续，无缺失。\")\n"
   ]
  },
  {
   "cell_type": "code",
   "execution_count": 35,
   "id": "1bf05edb-afc7-45e6-b23a-9fba3b3c64a0",
   "metadata": {},
   "outputs": [
    {
     "name": "stdout",
     "output_type": "stream",
     "text": [
      "题号已重新排序，并保存到文件： /Users/tangluoxi/Desktop/Education/4.json\n"
     ]
    }
   ],
   "source": [
    "import json\n",
    "\n",
    "# 设置输入和输出文件路径\n",
    "input_file = \"/Users/tangluoxi/Desktop/Education/3.json\"\n",
    "output_file = \"/Users/tangluoxi/Desktop/Education/4.json\"\n",
    "\n",
    "# 读取 JSON 文件\n",
    "with open(input_file, \"r\", encoding=\"utf-8\") as f:\n",
    "    data = json.load(f)\n",
    "\n",
    "# 遍历每个题目，将 question_number 重新赋值，从 1 开始\n",
    "for index, item in enumerate(data, start=1):\n",
    "    item[\"question_number\"] = index\n",
    "\n",
    "# 将更新后的数据写入输出文件\n",
    "with open(output_file, \"w\", encoding=\"utf-8\") as f:\n",
    "    json.dump(data, f, indent=4, ensure_ascii=False)\n",
    "\n",
    "print(\"题号已重新排序，并保存到文件：\", output_file)\n"
   ]
  },
  {
   "cell_type": "code",
   "execution_count": 34,
   "id": "c7320e7b-b144-4329-a628-f73f3d1a7dd0",
   "metadata": {},
   "outputs": [
    {
     "name": "stdout",
     "output_type": "stream",
     "text": [
      "各题型题目数量统计：\n",
      "single answer: 110\n",
      "array of 3 answers: 100\n",
      "array of 2 answers: 100\n",
      "array of two options from 6 answers: 100\n"
     ]
    }
   ],
   "source": [
    "import json\n",
    "\n",
    "# 设置文件路径\n",
    "file_path = \"/Users/tangluoxi/Desktop/Education/GRE Verbal.json\"\n",
    "\n",
    "# 读取 JSON 文件\n",
    "with open(file_path, \"r\", encoding=\"utf-8\") as f:\n",
    "    data = json.load(f)\n",
    "\n",
    "# 初始化计数器\n",
    "counts = {\n",
    "    \"single answer\": 0,\n",
    "    \"array of 3 answers\": 0,\n",
    "    \"array of 2 answers\": 0,\n",
    "    \"array of two options from 6 answers\": 0\n",
    "}\n",
    "\n",
    "# 遍历所有题目\n",
    "for item in data:\n",
    "    q_type = item.get(\"question_type\", \"\").strip()\n",
    "    if q_type in counts:\n",
    "        counts[q_type] += 1\n",
    "\n",
    "# 输出统计结果\n",
    "print(\"各题型题目数量统计：\")\n",
    "for k, v in counts.items():\n",
    "    print(f\"{k}: {v}\")\n"
   ]
  },
  {
   "cell_type": "code",
   "execution_count": 36,
   "id": "7a4fcd96-93fb-4ad5-bee6-dfbbe5ce870c",
   "metadata": {},
   "outputs": [
    {
     "name": "stdout",
     "output_type": "stream",
     "text": [
      "Found question numbers: []\n",
      "Missing question numbers: [1, 2, 3, 4, 5, 6, 7, 8, 9, 10, 11, 12, 13, 14, 15, 16, 17, 18, 19, 20, 21, 22, 23, 24, 25, 26, 27, 28, 29, 30, 31, 32, 33, 34, 35, 36, 37, 38, 39, 40, 41, 42, 43, 44, 45, 46, 47, 48, 49, 50, 51, 52, 53, 54, 55, 56, 57, 58, 59, 60, 61, 62, 63, 64, 65, 66, 67, 68, 69, 70, 71, 72, 73, 74, 75, 76, 77, 78, 79, 80, 81, 82, 83, 84, 85, 86, 87, 88, 89, 90, 91, 92, 93, 94, 95, 96, 97, 98, 99, 100]\n"
     ]
    }
   ],
   "source": [
    "import re\n",
    "\n",
    "file_path = \"/Users/tangluoxi/Desktop/Education/4.json\"  # 替换为你的文件路径\n",
    "\n",
    "with open(file_path, \"r\", encoding=\"utf-8\") as f:\n",
    "    content = f.read()\n",
    "\n",
    "# 找出所有以数字后跟点开始的题号\n",
    "question_numbers = re.findall(r\"^(\\d+)\\.\", content, flags=re.MULTILINE)\n",
    "question_numbers = [int(num) for num in question_numbers]\n",
    "print(\"Found question numbers:\", question_numbers)\n",
    "\n",
    "# 预期题号从 1 到 100\n",
    "all_numbers = set(range(1, 101))\n",
    "missing = sorted(all_numbers - set(question_numbers))\n",
    "print(\"Missing question numbers:\", missing)"
   ]
  },
  {
   "cell_type": "code",
   "execution_count": 37,
   "id": "5b92dd11-224a-4f13-b470-c63f64ddb19d",
   "metadata": {},
   "outputs": [
    {
     "name": "stdout",
     "output_type": "stream",
     "text": [
      "各题型题目数量统计：\n",
      "single answer: 0\n",
      "array of 3 answers: 99\n",
      "array of 2 answers: 0\n",
      "array of two options from 6 answers: 0\n"
     ]
    }
   ],
   "source": [
    "import json\n",
    "\n",
    "# 设置文件路径\n",
    "file_path = \"/Users/tangluoxi/Desktop/Education/4.json\"\n",
    "\n",
    "# 读取 JSON 文件\n",
    "with open(file_path, \"r\", encoding=\"utf-8\") as f:\n",
    "    data = json.load(f)\n",
    "\n",
    "# 初始化计数器\n",
    "counts = {\n",
    "    \"single answer\": 0,\n",
    "    \"array of 3 answers\": 0,\n",
    "    \"array of 2 answers\": 0,\n",
    "    \"array of two options from 6 answers\": 0\n",
    "}\n",
    "\n",
    "# 遍历所有题目\n",
    "for item in data:\n",
    "    q_type = item.get(\"question_type\", \"\").strip()\n",
    "    if q_type in counts:\n",
    "        counts[q_type] += 1\n",
    "\n",
    "# 输出统计结果\n",
    "print(\"各题型题目数量统计：\")\n",
    "for k, v in counts.items():\n",
    "    print(f\"{k}: {v}\")\n"
   ]
  },
  {
   "cell_type": "code",
   "execution_count": 40,
   "id": "07a3b478-0403-4941-9097-de8b4cb526f7",
   "metadata": {},
   "outputs": [
    {
     "name": "stdout",
     "output_type": "stream",
     "text": [
      "加载后的题目数量: 410\n"
     ]
    }
   ],
   "source": [
    "import json\n",
    "\n",
    "input_file = \"/Users/tangluoxi/Desktop/Education/GRE Verbal.json\"\n",
    "\n",
    "with open(input_file, \"r\", encoding=\"utf-8\") as f:\n",
    "    data = json.load(f)\n",
    "\n",
    "print(\"加载后的题目数量:\", len(data))\n"
   ]
  },
  {
   "cell_type": "code",
   "execution_count": 41,
   "id": "d9949cfb-5f5e-4331-8786-a289e9ad399e",
   "metadata": {},
   "outputs": [
    {
     "name": "stdout",
     "output_type": "stream",
     "text": [
      "题型 'single answer' 包含 110 道题目，已保存到 /Users/tangluoxi/Desktop/Education/GRE_Verbal_single_answer.json\n",
      "题型 'array of 3 answers' 包含 100 道题目，已保存到 /Users/tangluoxi/Desktop/Education/GRE_Verbal_array_of_3_answers.json\n",
      "题型 'array of 2 answers' 包含 100 道题目，已保存到 /Users/tangluoxi/Desktop/Education/GRE_Verbal_array_of_2_answers.json\n",
      "题型 'array of two options from 6 answers' 包含 100 道题目，已保存到 /Users/tangluoxi/Desktop/Education/GRE_Verbal_array_of_two_options_from_6_answers.json\n"
     ]
    }
   ],
   "source": [
    "import json\n",
    "import os\n",
    "\n",
    "# 设置输入文件路径\n",
    "input_file = \"/Users/tangluoxi/Desktop/Education/GRE Verbal.json\"\n",
    "# 设置输出目录\n",
    "output_dir = \"/Users/tangluoxi/Desktop/Education/\"\n",
    "\n",
    "# 读取 JSON 文件\n",
    "with open(input_file, \"r\", encoding=\"utf-8\") as f:\n",
    "    data = json.load(f)\n",
    "\n",
    "# 根据 question_type 分组\n",
    "separated = {}\n",
    "for item in data:\n",
    "    q_type = item.get(\"question_type\", \"\").strip()\n",
    "    if q_type not in separated:\n",
    "        separated[q_type] = []\n",
    "    separated[q_type].append(item)\n",
    "\n",
    "# 对每个题型的数据，重新设置 question_number 并保存为单独的文件\n",
    "for q_type, items in separated.items():\n",
    "    # 重新设置题号，从1开始\n",
    "    for idx, item in enumerate(items, start=1):\n",
    "        item[\"question_number\"] = idx\n",
    "    # 为防止文件名中出现空格或特殊字符，将题型字符串处理成安全的格式\n",
    "    safe_q_type = q_type.replace(\" \", \"_\")\n",
    "    filename = f\"GRE_Verbal_{safe_q_type}.json\"\n",
    "    output_path = os.path.join(output_dir, filename)\n",
    "    with open(output_path, \"w\", encoding=\"utf-8\") as f_out:\n",
    "        json.dump(items, f_out, indent=4, ensure_ascii=False)\n",
    "    print(f\"题型 '{q_type}' 包含 {len(items)} 道题目，已保存到 {output_path}\")\n"
   ]
  },
  {
   "cell_type": "code",
   "execution_count": 3,
   "id": "cb1e7fc0-abfc-4e57-bcc1-af8520e55947",
   "metadata": {},
   "outputs": [
    {
     "name": "stdout",
     "output_type": "stream",
     "text": [
      "JSON 文件已生成，路径为： /Users/tangluoxi/Desktop/Education/GRE Math Hard/GRE Math Hard.json\n"
     ]
    }
   ],
   "source": [
    "import os\n",
    "import json\n",
    "\n",
    "# 路径设置\n",
    "image_dir = \"/Users/tangluoxi/Desktop/Education/GRE Math Hard\"\n",
    "txt_file = \"/Users/tangluoxi/Desktop/Education/GRE Math Hard.txt\"\n",
    "output_json = os.path.join(image_dir, \"GRE Math Hard.json\")\n",
    "\n",
    "# 读取答案，每行格式为 \"编号. 答案\"\n",
    "with open(txt_file, 'r', encoding='utf-8') as f:\n",
    "    lines = [line.strip() for line in f if line.strip()]\n",
    "\n",
    "exercises = []\n",
    "for line in lines:\n",
    "    # 假设格式为 \"编号. 答案\"，用点分隔\n",
    "    if '.' in line:\n",
    "        num, ans = line.split('.', 1)\n",
    "        question_number = num.strip()\n",
    "        answer = ans.strip()\n",
    "    else:\n",
    "        # 如果没有找到分隔符，全部作为答案\n",
    "        question_number = \"\"\n",
    "        answer = line.strip()\n",
    "    \n",
    "    # 根据题号生成图片路径\n",
    "    image_filename = f\"{question_number}.png\" if question_number else \"\"\n",
    "    image_path = os.path.join(image_dir, image_filename)\n",
    "    \n",
    "    exercises.append({\n",
    "        \"question_number\": question_number,\n",
    "        \"image\": image_path,\n",
    "        \"answer\": answer\n",
    "    })\n",
    "\n",
    "# 生成 JSON 文件\n",
    "with open(output_json, 'w', encoding='utf-8') as f:\n",
    "    json.dump({\"GRE Math Hard.json\": exercises}, f, ensure_ascii=False, indent=4)\n",
    "\n",
    "print(\"JSON 文件已生成，路径为：\", output_json)\n"
   ]
  },
  {
   "cell_type": "code",
   "execution_count": 4,
   "id": "3ab0e681-c091-47f0-ace8-ab5799d6dc5e",
   "metadata": {},
   "outputs": [
    {
     "name": "stdout",
     "output_type": "stream",
     "text": [
      "题目块 10 格式不符合要求，跳过\n",
      "题目块 13 格式不符合要求，跳过\n",
      "题目块 18 格式不符合要求，跳过\n",
      "题目块 27 格式不符合要求，跳过\n",
      "题目块 29 格式不符合要求，跳过\n",
      "题目块 33 格式不符合要求，跳过\n",
      "题目块 35 格式不符合要求，跳过\n",
      "题目块 43 格式不符合要求，跳过\n",
      "题目块 47 格式不符合要求，跳过\n",
      "题目块 53 格式不符合要求，跳过\n",
      "题目块 55 格式不符合要求，跳过\n",
      "题目块 61 格式不符合要求，跳过\n",
      "题目块 76 格式不符合要求，跳过\n",
      "题目块 78 格式不符合要求，跳过\n",
      "题目块 83 格式不符合要求，跳过\n",
      "题目块 87 格式不符合要求，跳过\n",
      "题目块 90 格式不符合要求，跳过\n",
      "题目块 93 格式不符合要求，跳过\n",
      "题目块 102 格式不符合要求，跳过\n",
      "JSON 文件已生成，路径为： /Users/tangluoxi/Desktop/Education/output.json\n"
     ]
    }
   ],
   "source": [
    "import os\n",
    "import json\n",
    "\n",
    "# 文件路径设置\n",
    "txt_file = \"/Users/tangluoxi/Desktop/Education/1.txt\"\n",
    "output_json = \"/Users/tangluoxi/Desktop/Education/output.json\"  # 输出 JSON 文件路径\n",
    "\n",
    "# 读取整个文本文件内容\n",
    "with open(txt_file, \"r\", encoding=\"utf-8\") as f:\n",
    "    content = f.read()\n",
    "\n",
    "# 假设每个题目块之间用两个换行符分隔\n",
    "question_blocks = content.strip().split(\"\\n\\n\")\n",
    "\n",
    "questions = []\n",
    "question_number_start = 101\n",
    "\n",
    "for i, block in enumerate(question_blocks):\n",
    "    lines = block.strip().splitlines()\n",
    "    if len(lines) < 5:\n",
    "        print(f\"题目块 {i+1} 格式不符合要求，跳过\")\n",
    "        continue\n",
    "\n",
    "    # 第一行为题干\n",
    "    question_content = lines[0].strip()\n",
    "    \n",
    "    # 第二行：Blank(i) 选项，格式 \"Blank(i): option1, option2, option3\"\n",
    "    blank_i_line = lines[1].strip()\n",
    "    if \":\" in blank_i_line:\n",
    "        _, blank_i_options_str = blank_i_line.split(\":\", 1)\n",
    "        blank_i_options = [opt.strip() for opt in blank_i_options_str.split(\",\")]\n",
    "    else:\n",
    "        blank_i_options = []\n",
    "    \n",
    "    # 第三行：Blank(ii) 选项\n",
    "    blank_ii_line = lines[2].strip()\n",
    "    if \":\" in blank_ii_line:\n",
    "        _, blank_ii_options_str = blank_ii_line.split(\":\", 1)\n",
    "        blank_ii_options = [opt.strip() for opt in blank_ii_options_str.split(\",\")]\n",
    "    else:\n",
    "        blank_ii_options = []\n",
    "    \n",
    "    # 第四行：答案，格式 \"Answer: answer1, answer2\"\n",
    "    answer_line = lines[3].strip()\n",
    "    if \":\" in answer_line:\n",
    "        _, answer_str = answer_line.split(\":\", 1)\n",
    "        answers = [ans.strip() for ans in answer_str.split(\",\")]\n",
    "    else:\n",
    "        answers = []\n",
    "    \n",
    "    # 第五行：题型，格式 \"Question type: some type\"\n",
    "    question_type_line = lines[4].strip()\n",
    "    if \":\" in question_type_line:\n",
    "        _, qtype = question_type_line.split(\":\", 1)\n",
    "        qtype = qtype.strip()\n",
    "    else:\n",
    "        qtype = \"\"\n",
    "    \n",
    "    # 构造当前题目的 JSON 对象\n",
    "    question_json = {\n",
    "        \"question_number\": question_number_start + i,\n",
    "        \"content\": question_content,\n",
    "        \"options\": {\n",
    "            \"Blank(i)\": blank_i_options,\n",
    "            \"Blank(ii)\": blank_ii_options\n",
    "        },\n",
    "        \"answer\": answers,\n",
    "        \"question_type\": qtype\n",
    "    }\n",
    "    questions.append(question_json)\n",
    "\n",
    "# 构造最终 JSON 数据\n",
    "output_data = {\"questions\": questions}\n",
    "\n",
    "# 输出到 JSON 文件\n",
    "with open(output_json, \"w\", encoding=\"utf-8\") as f:\n",
    "    json.dump(output_data, f, ensure_ascii=False, indent=4)\n",
    "\n",
    "print(\"JSON 文件已生成，路径为：\", output_json)\n"
   ]
  },
  {
   "cell_type": "code",
   "execution_count": null,
   "id": "aa0fde54-f850-4f4c-8ca6-9e542b1c8995",
   "metadata": {},
   "outputs": [],
   "source": []
  }
 ],
 "metadata": {
  "kernelspec": {
   "display_name": "Python 3 (ipykernel)",
   "language": "python",
   "name": "python3"
  },
  "language_info": {
   "codemirror_mode": {
    "name": "ipython",
    "version": 3
   },
   "file_extension": ".py",
   "mimetype": "text/x-python",
   "name": "python",
   "nbconvert_exporter": "python",
   "pygments_lexer": "ipython3",
   "version": "3.11.4"
  }
 },
 "nbformat": 4,
 "nbformat_minor": 5
}
